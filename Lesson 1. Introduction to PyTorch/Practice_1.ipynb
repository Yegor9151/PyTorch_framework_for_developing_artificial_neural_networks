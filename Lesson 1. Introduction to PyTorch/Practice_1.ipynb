{
  "nbformat": 4,
  "nbformat_minor": 0,
  "metadata": {
    "kernelspec": {
      "display_name": "Python 3",
      "language": "python",
      "name": "python3"
    },
    "language_info": {
      "codemirror_mode": {
        "name": "ipython",
        "version": 3
      },
      "file_extension": ".py",
      "mimetype": "text/x-python",
      "name": "python",
      "nbconvert_exporter": "python",
      "pygments_lexer": "ipython3",
      "version": "3.7.4"
    },
    "colab": {
      "name": "Practice 1.ipynb",
      "provenance": [],
      "collapsed_sections": []
    },
    "accelerator": "GPU",
    "widgets": {
      "application/vnd.jupyter.widget-state+json": {
        "c498425965794d6588ba0655706b351d": {
          "model_module": "@jupyter-widgets/controls",
          "model_name": "HBoxModel",
          "state": {
            "_view_name": "HBoxView",
            "_dom_classes": [],
            "_model_name": "HBoxModel",
            "_view_module": "@jupyter-widgets/controls",
            "_model_module_version": "1.5.0",
            "_view_count": null,
            "_view_module_version": "1.5.0",
            "box_style": "",
            "layout": "IPY_MODEL_3192d03eeb74428fa36f324ddbbd22b9",
            "_model_module": "@jupyter-widgets/controls",
            "children": [
              "IPY_MODEL_97174f07f07847a8989fa98e5d22a540",
              "IPY_MODEL_a671a69129e24868b87426749ba4c6f0"
            ]
          }
        },
        "3192d03eeb74428fa36f324ddbbd22b9": {
          "model_module": "@jupyter-widgets/base",
          "model_name": "LayoutModel",
          "state": {
            "_view_name": "LayoutView",
            "grid_template_rows": null,
            "right": null,
            "justify_content": null,
            "_view_module": "@jupyter-widgets/base",
            "overflow": null,
            "_model_module_version": "1.2.0",
            "_view_count": null,
            "flex_flow": null,
            "width": null,
            "min_width": null,
            "border": null,
            "align_items": null,
            "bottom": null,
            "_model_module": "@jupyter-widgets/base",
            "top": null,
            "grid_column": null,
            "overflow_y": null,
            "overflow_x": null,
            "grid_auto_flow": null,
            "grid_area": null,
            "grid_template_columns": null,
            "flex": null,
            "_model_name": "LayoutModel",
            "justify_items": null,
            "grid_row": null,
            "max_height": null,
            "align_content": null,
            "visibility": null,
            "align_self": null,
            "height": null,
            "min_height": null,
            "padding": null,
            "grid_auto_rows": null,
            "grid_gap": null,
            "max_width": null,
            "order": null,
            "_view_module_version": "1.2.0",
            "grid_template_areas": null,
            "object_position": null,
            "object_fit": null,
            "grid_auto_columns": null,
            "margin": null,
            "display": null,
            "left": null
          }
        },
        "97174f07f07847a8989fa98e5d22a540": {
          "model_module": "@jupyter-widgets/controls",
          "model_name": "FloatProgressModel",
          "state": {
            "_view_name": "ProgressView",
            "style": "IPY_MODEL_d070015d734943f7bae0eda635f68933",
            "_dom_classes": [],
            "description": "",
            "_model_name": "FloatProgressModel",
            "bar_style": "success",
            "max": 1,
            "_view_module": "@jupyter-widgets/controls",
            "_model_module_version": "1.5.0",
            "value": 1,
            "_view_count": null,
            "_view_module_version": "1.5.0",
            "orientation": "horizontal",
            "min": 0,
            "description_tooltip": null,
            "_model_module": "@jupyter-widgets/controls",
            "layout": "IPY_MODEL_704f785725ca4ef5804247a6586c3c4d"
          }
        },
        "a671a69129e24868b87426749ba4c6f0": {
          "model_module": "@jupyter-widgets/controls",
          "model_name": "HTMLModel",
          "state": {
            "_view_name": "HTMLView",
            "style": "IPY_MODEL_ca5174ad81a54cbca9074ffac1f9dad6",
            "_dom_classes": [],
            "description": "",
            "_model_name": "HTMLModel",
            "placeholder": "​",
            "_view_module": "@jupyter-widgets/controls",
            "_model_module_version": "1.5.0",
            "value": " 170500096/? [00:04&lt;00:00, 34649653.06it/s]",
            "_view_count": null,
            "_view_module_version": "1.5.0",
            "description_tooltip": null,
            "_model_module": "@jupyter-widgets/controls",
            "layout": "IPY_MODEL_bb309f9ae54844d9af2c3fb93b3ee027"
          }
        },
        "d070015d734943f7bae0eda635f68933": {
          "model_module": "@jupyter-widgets/controls",
          "model_name": "ProgressStyleModel",
          "state": {
            "_view_name": "StyleView",
            "_model_name": "ProgressStyleModel",
            "description_width": "initial",
            "_view_module": "@jupyter-widgets/base",
            "_model_module_version": "1.5.0",
            "_view_count": null,
            "_view_module_version": "1.2.0",
            "bar_color": null,
            "_model_module": "@jupyter-widgets/controls"
          }
        },
        "704f785725ca4ef5804247a6586c3c4d": {
          "model_module": "@jupyter-widgets/base",
          "model_name": "LayoutModel",
          "state": {
            "_view_name": "LayoutView",
            "grid_template_rows": null,
            "right": null,
            "justify_content": null,
            "_view_module": "@jupyter-widgets/base",
            "overflow": null,
            "_model_module_version": "1.2.0",
            "_view_count": null,
            "flex_flow": null,
            "width": null,
            "min_width": null,
            "border": null,
            "align_items": null,
            "bottom": null,
            "_model_module": "@jupyter-widgets/base",
            "top": null,
            "grid_column": null,
            "overflow_y": null,
            "overflow_x": null,
            "grid_auto_flow": null,
            "grid_area": null,
            "grid_template_columns": null,
            "flex": null,
            "_model_name": "LayoutModel",
            "justify_items": null,
            "grid_row": null,
            "max_height": null,
            "align_content": null,
            "visibility": null,
            "align_self": null,
            "height": null,
            "min_height": null,
            "padding": null,
            "grid_auto_rows": null,
            "grid_gap": null,
            "max_width": null,
            "order": null,
            "_view_module_version": "1.2.0",
            "grid_template_areas": null,
            "object_position": null,
            "object_fit": null,
            "grid_auto_columns": null,
            "margin": null,
            "display": null,
            "left": null
          }
        },
        "ca5174ad81a54cbca9074ffac1f9dad6": {
          "model_module": "@jupyter-widgets/controls",
          "model_name": "DescriptionStyleModel",
          "state": {
            "_view_name": "StyleView",
            "_model_name": "DescriptionStyleModel",
            "description_width": "",
            "_view_module": "@jupyter-widgets/base",
            "_model_module_version": "1.5.0",
            "_view_count": null,
            "_view_module_version": "1.2.0",
            "_model_module": "@jupyter-widgets/controls"
          }
        },
        "bb309f9ae54844d9af2c3fb93b3ee027": {
          "model_module": "@jupyter-widgets/base",
          "model_name": "LayoutModel",
          "state": {
            "_view_name": "LayoutView",
            "grid_template_rows": null,
            "right": null,
            "justify_content": null,
            "_view_module": "@jupyter-widgets/base",
            "overflow": null,
            "_model_module_version": "1.2.0",
            "_view_count": null,
            "flex_flow": null,
            "width": null,
            "min_width": null,
            "border": null,
            "align_items": null,
            "bottom": null,
            "_model_module": "@jupyter-widgets/base",
            "top": null,
            "grid_column": null,
            "overflow_y": null,
            "overflow_x": null,
            "grid_auto_flow": null,
            "grid_area": null,
            "grid_template_columns": null,
            "flex": null,
            "_model_name": "LayoutModel",
            "justify_items": null,
            "grid_row": null,
            "max_height": null,
            "align_content": null,
            "visibility": null,
            "align_self": null,
            "height": null,
            "min_height": null,
            "padding": null,
            "grid_auto_rows": null,
            "grid_gap": null,
            "max_width": null,
            "order": null,
            "_view_module_version": "1.2.0",
            "grid_template_areas": null,
            "object_position": null,
            "object_fit": null,
            "grid_auto_columns": null,
            "margin": null,
            "display": null,
            "left": null
          }
        }
      }
    }
  },
  "cells": [
    {
      "cell_type": "markdown",
      "metadata": {
        "id": "EtPvMiFd7sfB"
      },
      "source": [
        "# 1. Добиться вразумительного результата от модели, собранной на занятии (3 угаданные картинки из 4 предложенных на семинаре). Варианты изменений:\n",
        "\n",
        "- a. изменение слоёв и их количества;\n",
        "- b. изменение метода оптимизации; \n",
        "- c. изменение процесса обучения; \n",
        "- d. для продвинутых: преобразование данных.\n"
      ]
    },
    {
      "cell_type": "code",
      "metadata": {
        "id": "1Toe_MJf7sfI"
      },
      "source": [
        "import matplotlib.pyplot as plt\n",
        "import pandas as pd\n",
        "\n",
        "import torch\n",
        "import torch.nn.functional as F\n",
        "from torch import nn\n",
        "from torch import optim\n",
        "\n",
        "import torchvision\n",
        "from torchvision import transforms"
      ],
      "execution_count": 1,
      "outputs": []
    },
    {
      "cell_type": "code",
      "metadata": {
        "id": "wzByJgkO7sfJ",
        "colab": {
          "base_uri": "https://localhost:8080/",
          "height": 85,
          "referenced_widgets": [
            "c498425965794d6588ba0655706b351d",
            "3192d03eeb74428fa36f324ddbbd22b9",
            "97174f07f07847a8989fa98e5d22a540",
            "a671a69129e24868b87426749ba4c6f0",
            "d070015d734943f7bae0eda635f68933",
            "704f785725ca4ef5804247a6586c3c4d",
            "ca5174ad81a54cbca9074ffac1f9dad6",
            "bb309f9ae54844d9af2c3fb93b3ee027"
          ]
        },
        "outputId": "2cca0773-a2a9-4940-9fec-d485af767200"
      },
      "source": [
        "train_dataset = torchvision.datasets.CIFAR10(root='./data/',\n",
        "                                             train=True,\n",
        "                                             download=True,\n",
        "                                             transform=transforms.ToTensor())\n",
        "\n",
        "test_dataset = torchvision.datasets.CIFAR10(root='./data', \n",
        "                                            train=False,\n",
        "                                            download=False, \n",
        "                                            transform=transforms.ToTensor())\n",
        "\n",
        "test_loader = torch.utils.data.DataLoader(test_dataset, \n",
        "                                          batch_size=4,\n",
        "                                          shuffle=False)"
      ],
      "execution_count": 2,
      "outputs": [
        {
          "output_type": "stream",
          "text": [
            "Downloading https://www.cs.toronto.edu/~kriz/cifar-10-python.tar.gz to ./data/cifar-10-python.tar.gz\n"
          ],
          "name": "stdout"
        },
        {
          "output_type": "display_data",
          "data": {
            "application/vnd.jupyter.widget-view+json": {
              "model_id": "c498425965794d6588ba0655706b351d",
              "version_minor": 0,
              "version_major": 2
            },
            "text/plain": [
              "HBox(children=(FloatProgress(value=1.0, bar_style='info', max=1.0), HTML(value='')))"
            ]
          },
          "metadata": {
            "tags": []
          }
        },
        {
          "output_type": "stream",
          "text": [
            "Extracting ./data/cifar-10-python.tar.gz to ./data/\n"
          ],
          "name": "stdout"
        }
      ]
    },
    {
      "cell_type": "code",
      "metadata": {
        "colab": {
          "base_uri": "https://localhost:8080/",
          "height": 321
        },
        "id": "E-vZYXYL7sfK",
        "outputId": "4e7bda75-7a49-4a26-ef85-42c2121ae80c"
      },
      "source": [
        "image, label = train_dataset[0]\n",
        "\n",
        "print (image.size())\n",
        "print (label)\n",
        "\n",
        "plt.imshow(image.permute(1, 2, 0).numpy())\n",
        "plt.show()"
      ],
      "execution_count": 3,
      "outputs": [
        {
          "output_type": "stream",
          "text": [
            "torch.Size([3, 32, 32])\n",
            "6\n"
          ],
          "name": "stdout"
        },
        {
          "output_type": "display_data",
          "data": {
            "image/png": "[encoded data removed]",
            "text/plain": [
              "<Figure size 432x288 with 1 Axes>"
            ]
          },
          "metadata": {
            "tags": [],
            "needs_background": "light"
          }
        },
        {
          "output_type": "stream",
          "text": [
            "\n"
          ],
          "name": "stdout"
        }
      ]
    },
    {
      "cell_type": "code",
      "metadata": {
        "id": "z8iUWZl97sfK"
      },
      "source": [
        "train_loader = torch.utils.data.DataLoader(dataset=train_dataset,\n",
        "                                           batch_size=64, \n",
        "                                           shuffle=True)"
      ],
      "execution_count": 4,
      "outputs": []
    },
    {
      "cell_type": "code",
      "metadata": {
        "id": "8Hb6PwpG7sfK"
      },
      "source": [
        "# nn.Conv2d?"
      ],
      "execution_count": 5,
      "outputs": []
    },
    {
      "cell_type": "code",
      "metadata": {
        "id": "n68yQuqW7sfL"
      },
      "source": [
        "class Net(nn.Module):\n",
        "    def __init__(self):\n",
        "        super().__init__()\n",
        "        \n",
        "        self.conv1 = nn.Conv2d(in_channels=3,  out_channels=6, kernel_size=3)\n",
        "        self.pool = nn.MaxPool2d(2, 2)\n",
        "        self.conv2 = nn.Conv2d(in_channels=6, out_channels=16, kernel_size=5)\n",
        "        \n",
        "        self.fc1 = nn.Linear(16 * 5 * 5, 120)\n",
        "        self.fc2 = nn.Linear(120, 84)\n",
        "        self.fc3 = nn.Linear(84, 10)\n",
        "\n",
        "    def forward(self, x):\n",
        "        x = self.pool(F.relu(self.conv1(x)))\n",
        "        x = self.pool(F.relu(self.conv2(x)))\n",
        "        \n",
        "        x = x.view(-1, 16 * 5 * 5)\n",
        "        \n",
        "        x = F.relu(self.fc1(x))\n",
        "        x = F.relu(self.fc2(x))\n",
        "        \n",
        "        pred = self.fc3(x)\n",
        "        return pred"
      ],
      "execution_count": 6,
      "outputs": []
    },
    {
      "cell_type": "code",
      "metadata": {
        "id": "_FnErZBP7sfL"
      },
      "source": [
        "net = Net() # создание модели\n",
        "\n",
        "criterion = nn.CrossEntropyLoss() # loss функция\n",
        "\n",
        "optimizerAdam = optim.Adam(\n",
        "    net.parameters(), \n",
        "    lr=0.001)\n",
        "\n",
        "optimizerAdamW = optim.AdamW(\n",
        "    net.parameters(), \n",
        "    lr=0.001)\n",
        "\n",
        "optimizerSGD = optim.SGD(\n",
        "    net.parameters(), \n",
        "    lr=0.001, # шаг обучения\n",
        "    momentum=0.9) # оптитимизтор - стохастический градиентный спуск"
      ],
      "execution_count": 7,
      "outputs": []
    },
    {
      "cell_type": "code",
      "metadata": {
        "id": "Sv_7nhFP7sfL"
      },
      "source": [
        "df = pd.DataFrame(columns=['epoch', 'loss']).set_index('epoch')"
      ],
      "execution_count": 8,
      "outputs": []
    },
    {
      "cell_type": "code",
      "metadata": {
        "colab": {
          "base_uri": "https://localhost:8080/"
        },
        "id": "QzpvOc6F7sfM",
        "outputId": "c1e5d7ea-1766-4e33-a997-38caa85bcd9f"
      },
      "source": [
        "for epoch in range(15): \n",
        "    running_loss = 0.0 # Для вывода процесса обучения\n",
        "    \n",
        "    for i, data in enumerate(train_loader, 0):\n",
        "        inputs, labels = data[0], data[1]\n",
        "\n",
        "        optimizerAdam.zero_grad() # Обнуляем градиент\n",
        "    \n",
        "        outputs = net(inputs) # Делаем предсказание\n",
        "        loss = criterion(outputs, labels) # Рассчитываем лосс-функцию\n",
        "        \n",
        "        loss.backward() # Делаем шаг назад по лоссу\n",
        "        optimizerAdam.step() # Делаем шаг нашего оптимайзера\n",
        "\n",
        "        # выводим статистику о процессе обучения\n",
        "        running_loss += loss.item()\n",
        "        \n",
        "        if i % 300 == 0:    # печатаем каждые 300 mini-batches\n",
        "            print(f'[{epoch + 1}, {i + 1}] loss: {running_loss / 2000}')\n",
        "            df.loc[epoch + 1, 'loss'] = round((running_loss / 2000), 2)\n",
        "            running_loss = 0.0\n",
        "\n",
        "print('Training is finished!')"
      ],
      "execution_count": 9,
      "outputs": [
        {
          "output_type": "stream",
          "text": [
            "[1, 1] loss: 0.001153780460357666\n",
            "[1, 301] loss: 0.3048271849155426\n",
            "[1, 601] loss: 0.26800701242685315\n",
            "[2, 1] loss: 0.0008400769829750061\n",
            "[2, 301] loss: 0.23861371129751205\n",
            "[2, 601] loss: 0.22979897660017012\n",
            "[3, 1] loss: 0.0007058106660842896\n",
            "[3, 301] loss: 0.21601501691341402\n",
            "[3, 601] loss: 0.2099142756462097\n",
            "[4, 1] loss: 0.0006872926354408264\n",
            "[4, 301] loss: 0.20129573383927346\n",
            "[4, 601] loss: 0.19744781437516212\n",
            "[5, 1] loss: 0.0006161530613899231\n",
            "[5, 301] loss: 0.1891324435174465\n",
            "[5, 601] loss: 0.18554924961924552\n",
            "[6, 1] loss: 0.0005499941706657409\n",
            "[6, 301] loss: 0.17942473903298378\n",
            "[6, 601] loss: 0.17833906242251396\n",
            "[7, 1] loss: 0.0005317102074623108\n",
            "[7, 301] loss: 0.17258567908406258\n",
            "[7, 601] loss: 0.1728068251311779\n",
            "[8, 1] loss: 0.0007019271850585938\n",
            "[8, 301] loss: 0.16521738880872727\n",
            "[8, 601] loss: 0.1658580737411976\n",
            "[9, 1] loss: 0.0005278790593147278\n",
            "[9, 301] loss: 0.15981046971678733\n",
            "[9, 601] loss: 0.16267084321379663\n",
            "[10, 1] loss: 0.00043843263387680054\n",
            "[10, 301] loss: 0.15595608454942703\n",
            "[10, 601] loss: 0.15922489637136458\n",
            "[11, 1] loss: 0.00044044017791748045\n",
            "[11, 301] loss: 0.15356722337007522\n",
            "[11, 601] loss: 0.15264958792924882\n",
            "[12, 1] loss: 0.0005268433094024658\n",
            "[12, 301] loss: 0.14769403725862504\n",
            "[12, 601] loss: 0.1520872507095337\n",
            "[13, 1] loss: 0.00047891226410865786\n",
            "[13, 301] loss: 0.14502527394890785\n",
            "[13, 601] loss: 0.14707051691412926\n",
            "[14, 1] loss: 0.000521425187587738\n",
            "[14, 301] loss: 0.14147757637500763\n",
            "[14, 601] loss: 0.14466213512420653\n",
            "[15, 1] loss: 0.0003884301483631134\n",
            "[15, 301] loss: 0.1380130278468132\n",
            "[15, 601] loss: 0.14392025259137153\n",
            "Training is finished!\n"
          ],
          "name": "stdout"
        }
      ]
    },
    {
      "cell_type": "code",
      "metadata": {
        "id": "CSNS22Hf7sfM",
        "colab": {
          "base_uri": "https://localhost:8080/",
          "height": 490
        },
        "outputId": "66475463-4fbb-4cd0-ab59-2be7b47cad1d"
      },
      "source": [
        "df.plot()\r\n",
        "plt.show()\r\n",
        "\r\n",
        "df.tail()"
      ],
      "execution_count": 10,
      "outputs": [
        {
          "output_type": "display_data",
          "data": {
            "image/png": "[encoded data removed]",
            "text/plain": [
              "<Figure size 432x288 with 1 Axes>"
            ]
          },
          "metadata": {
            "tags": [],
            "needs_background": "light"
          }
        },
        {
          "output_type": "execute_result",
          "data": {
            "text/html": [
              "<div>\n",
              "<style scoped>\n",
              "    .dataframe tbody tr th:only-of-type {\n",
              "        vertical-align: middle;\n",
              "    }\n",
              "\n",
              "    .dataframe tbody tr th {\n",
              "        vertical-align: top;\n",
              "    }\n",
              "\n",
              "    .dataframe thead th {\n",
              "        text-align: right;\n",
              "    }\n",
              "</style>\n",
              "<table border=\"1\" class=\"dataframe\">\n",
              "  <thead>\n",
              "    <tr style=\"text-align: right;\">\n",
              "      <th></th>\n",
              "      <th>loss</th>\n",
              "    </tr>\n",
              "    <tr>\n",
              "      <th>epoch</th>\n",
              "      <th></th>\n",
              "    </tr>\n",
              "  </thead>\n",
              "  <tbody>\n",
              "    <tr>\n",
              "      <th>11</th>\n",
              "      <td>0.15</td>\n",
              "    </tr>\n",
              "    <tr>\n",
              "      <th>12</th>\n",
              "      <td>0.15</td>\n",
              "    </tr>\n",
              "    <tr>\n",
              "      <th>13</th>\n",
              "      <td>0.15</td>\n",
              "    </tr>\n",
              "    <tr>\n",
              "      <th>14</th>\n",
              "      <td>0.14</td>\n",
              "    </tr>\n",
              "    <tr>\n",
              "      <th>15</th>\n",
              "      <td>0.14</td>\n",
              "    </tr>\n",
              "  </tbody>\n",
              "</table>\n",
              "</div>"
            ],
            "text/plain": [
              "       loss\n",
              "epoch      \n",
              "11     0.15\n",
              "12     0.15\n",
              "13     0.15\n",
              "14     0.14\n",
              "15     0.14"
            ]
          },
          "metadata": {
            "tags": []
          },
          "execution_count": 10
        }
      ]
    },
    {
      "cell_type": "code",
      "metadata": {
        "id": "qsCmNAvX7sfN",
        "colab": {
          "base_uri": "https://localhost:8080/"
        },
        "outputId": "300fdd7d-f343-4375-9048-a2707430d87c"
      },
      "source": [
        "PATH = './cifar_net_version_test_intro.pth'\n",
        "torch.save(net.state_dict(), PATH)\n",
        "\n",
        "for param in net.state_dict():\n",
        "    print(param,\" \\ \", net.state_dict()[param].size())"
      ],
      "execution_count": 11,
      "outputs": [
        {
          "output_type": "stream",
          "text": [
            "conv1.weight  \\  torch.Size([6, 3, 3, 3])\n",
            "conv1.bias  \\  torch.Size([6])\n",
            "conv2.weight  \\  torch.Size([16, 6, 5, 5])\n",
            "conv2.bias  \\  torch.Size([16])\n",
            "fc1.weight  \\  torch.Size([120, 400])\n",
            "fc1.bias  \\  torch.Size([120])\n",
            "fc2.weight  \\  torch.Size([84, 120])\n",
            "fc2.bias  \\  torch.Size([84])\n",
            "fc3.weight  \\  torch.Size([10, 84])\n",
            "fc3.bias  \\  torch.Size([10])\n"
          ],
          "name": "stdout"
        }
      ]
    },
    {
      "cell_type": "code",
      "metadata": {
        "id": "C7kIR0aL7sfN",
        "colab": {
          "base_uri": "https://localhost:8080/"
        },
        "outputId": "5e7525f2-7a82-46aa-d6c3-742d4ca7e766"
      },
      "source": [
        "net = Net()\n",
        "net.load_state_dict(torch.load(PATH))"
      ],
      "execution_count": 12,
      "outputs": [
        {
          "output_type": "execute_result",
          "data": {
            "text/plain": [
              "<All keys matched successfully>"
            ]
          },
          "metadata": {
            "tags": []
          },
          "execution_count": 12
        }
      ]
    },
    {
      "cell_type": "code",
      "metadata": {
        "id": "f_3mDJO37sfN"
      },
      "source": [
        "data_iter = iter(test_loader)\n",
        "images, labels = data_iter.next()"
      ],
      "execution_count": 13,
      "outputs": []
    },
    {
      "cell_type": "code",
      "metadata": {
        "id": "KWKMtlA27sfN"
      },
      "source": [
        "classes = ('plane', 'car', 'bird', 'cat', 'deer', \n",
        "           'dog', 'frog', 'horse', 'ship', 'truck')"
      ],
      "execution_count": 14,
      "outputs": []
    },
    {
      "cell_type": "code",
      "metadata": {
        "id": "bNyF9BFw7sfO",
        "colab": {
          "base_uri": "https://localhost:8080/",
          "height": 156
        },
        "outputId": "d9021620-2fcf-41f3-fd72-d4582be9edbc"
      },
      "source": [
        "outputs = net(images)\n",
        "imgs = torchvision.utils.make_grid(images)\n",
        "\n",
        "plt.imshow(imgs.permute(1, 2, 0).numpy())\n",
        "\n",
        "print('GroundTruth: ', ' '.join('%5s' % classes[labels[j]] for j in range(4)))"
      ],
      "execution_count": 15,
      "outputs": [
        {
          "output_type": "stream",
          "text": [
            "GroundTruth:    cat  ship  ship plane\n"
          ],
          "name": "stdout"
        },
        {
          "output_type": "display_data",
          "data": {
            "image/png": "[encoded data removed]",
            "text/plain": [
              "<Figure size 432x288 with 1 Axes>"
            ]
          },
          "metadata": {
            "tags": [],
            "needs_background": "light"
          }
        }
      ]
    },
    {
      "cell_type": "markdown",
      "metadata": {
        "id": "YpJPu-O77sfO"
      },
      "source": [
        "# 2. Взять часть, где мы делали один шаг обучения, и обернуть его в цикл по схеме, как обучали модель в конце занятия."
      ]
    },
    {
      "cell_type": "markdown",
      "metadata": {
        "id": "62YwkRLWQxll"
      },
      "source": [
        "Не понял где это происходит, вроде бы эпохи есть"
      ]
    },
    {
      "cell_type": "markdown",
      "metadata": {
        "id": "MybXXqKF7sfO"
      },
      "source": [
        "# 3. Переписать эту программу на PyTorch:"
      ]
    },
    {
      "cell_type": "code",
      "metadata": {
        "id": "1-D0Wsul7sfO"
      },
      "source": [
        "class NetSequential(nn.Sequential):\n",
        "    def __init__(self):\n",
        "        super().__init__()\n",
        "        \n",
        "        self.flatten = nn.Flatten()\n",
        "        self.lin1 = nn.Linear(out_features=128)\n",
        "        self.relu = nn.ReLU()\n",
        "        self.dropout = nn.Dropout(p=0.2)\n",
        "        self.lin2 = nn.Linear(out_features=10)\n",
        "        self.softmax = nn.Softmax()\n",
        "\n",
        "    def forward(self, x):\n",
        "        x = self.flatten()\n",
        "        x = self.lin1(x)\n",
        "        x = self.relu(x)\n",
        "        x = self.dropout(x)\n",
        "        x = self.lin2(x)\n",
        "        \n",
        "        pred = self.softmax(x)\n",
        "        return pred"
      ],
      "execution_count": 16,
      "outputs": []
    },
    {
      "cell_type": "markdown",
      "metadata": {
        "id": "-DuUup7PHKOD"
      },
      "source": [
        "Не нашел аналог Dense в докумментации. Делал немного в слепую и как понимал."
      ]
    }
  ]
}